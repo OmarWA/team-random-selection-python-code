{
  "cells": [
    {
      "cell_type": "markdown",
      "metadata": {
        "id": "mNUHL3kChR1N"
      },
      "source": [
        "# Team Random Selection Code :)\n"
      ]
    },
    {
      "cell_type": "code",
      "execution_count": null,
      "metadata": {
        "id": "bkv6d1DShR1W"
      },
      "outputs": [],
      "source": [
        "import random\n",
        "import numpy as np\n",
        "# Define the four test lists\n",
        "level1_list = [1, 2, 3, 4]\n",
        "level2_list = ['a', 'b', 'c','d']\n",
        "level3_list = [99, 88, 77,66]\n",
        "level4_list = [\"1$\",\"2&\",\"3%\",\"4©\"]"
      ]
    },
    {
      "cell_type": "markdown",
      "metadata": {
        "id": "ISR6M6SLhR1a"
      },
      "source": [
        "Think about a code that help us to have random new mixed lists, each list should have one element from each level lists.\n",
        "\n",
        "Output may be like that following:\n",
        "```python\n",
        "team1 = [1, 'c', 88, '2&']\n",
        "team2 = [4, 'a', 99, '3%']\n",
        "team3 = [2, 'b', 77, '4©']\n",
        "team4 = [3, 'd', 66, '1$']\n",
        "```\n",
        "\n"
      ]
    },
    {
      "cell_type": "code",
      "execution_count": 42,
      "metadata": {
        "id": "u6JZm8WGhR1b",
        "colab": {
          "base_uri": "https://localhost:8080/"
        },
        "outputId": "7b9434d8-f221-4246-c7ca-2a391faa606c"
      },
      "outputs": [
        {
          "output_type": "stream",
          "name": "stdout",
          "text": [
            "team1  =  ['2' 'c' '99' '4©']\n",
            "team2  =  ['3' 'b' '77' '3%']\n",
            "team3  =  ['1' 'a' '66' '2&']\n",
            "team4  =  ['4' 'd' '88' '1$']\n"
          ]
        }
      ],
      "source": [
        "# your code here\n",
        "random.shuffle(level1_list)\n",
        "random.shuffle(level2_list)\n",
        "random.shuffle(level3_list)\n",
        "random.shuffle(level4_list)\n",
        "\n",
        "levels = np.array([level1_list, level2_list, level3_list, level4_list])\n",
        "for index in range(4):\n",
        "  print(\"team\"+str(index+1),\" = \",levels[0:,index])"
      ]
    }
  ],
  "metadata": {
    "kernelspec": {
      "display_name": "pubmed",
      "language": "python",
      "name": "python3"
    },
    "language_info": {
      "name": "python",
      "version": "3.11.9"
    },
    "colab": {
      "provenance": []
    }
  },
  "nbformat": 4,
  "nbformat_minor": 0
}